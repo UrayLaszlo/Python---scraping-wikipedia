{
 "cells": [
  {
   "cell_type": "code",
   "execution_count": 140,
   "metadata": {},
   "outputs": [
    {
     "data": {
      "text/html": [
       "<div>\n",
       "<style scoped>\n",
       "    .dataframe tbody tr th:only-of-type {\n",
       "        vertical-align: middle;\n",
       "    }\n",
       "\n",
       "    .dataframe tbody tr th {\n",
       "        vertical-align: top;\n",
       "    }\n",
       "\n",
       "    .dataframe thead th {\n",
       "        text-align: right;\n",
       "    }\n",
       "</style>\n",
       "<table border=\"1\" class=\"dataframe\">\n",
       "  <thead>\n",
       "    <tr style=\"text-align: right;\">\n",
       "      <th></th>\n",
       "      <th>Franchise</th>\n",
       "      <th>Principal Owner(s)</th>\n",
       "      <th>Purchase Price</th>\n",
       "      <th>Yearacquired</th>\n",
       "    </tr>\n",
       "  </thead>\n",
       "  <tbody>\n",
       "    <tr>\n",
       "      <th>4</th>\n",
       "      <td>Carolina Panthers</td>\n",
       "      <td>David Tepper</td>\n",
       "      <td>$2,275,000,000</td>\n",
       "      <td>2018[5]</td>\n",
       "    </tr>\n",
       "    <tr>\n",
       "      <th>5</th>\n",
       "      <td>Chicago Bears</td>\n",
       "      <td>Virginia Halas McCaskey†‡2</td>\n",
       "      <td>$100</td>\n",
       "      <td>1920[6]</td>\n",
       "    </tr>\n",
       "    <tr>\n",
       "      <th>6</th>\n",
       "      <td>Cincinnati Bengals</td>\n",
       "      <td>Mike Brown‡2</td>\n",
       "      <td>&gt;$200M[7]</td>\n",
       "      <td>1968[8] &amp; 2011</td>\n",
       "    </tr>\n",
       "    <tr>\n",
       "      <th>7</th>\n",
       "      <td>Cleveland Browns</td>\n",
       "      <td>Jimmy and Dee Haslam</td>\n",
       "      <td>$1,050,000,000[9]</td>\n",
       "      <td>2012[10]</td>\n",
       "    </tr>\n",
       "    <tr>\n",
       "      <th>8</th>\n",
       "      <td>Dallas Cowboys</td>\n",
       "      <td>Jerry Jones</td>\n",
       "      <td>$140,000,000</td>\n",
       "      <td>1989[11]</td>\n",
       "    </tr>\n",
       "    <tr>\n",
       "      <th>9</th>\n",
       "      <td>Denver Broncos</td>\n",
       "      <td>Joe Ellis, trustee6</td>\n",
       "      <td>$71,000,000</td>\n",
       "      <td>1984[12]</td>\n",
       "    </tr>\n",
       "    <tr>\n",
       "      <th>10</th>\n",
       "      <td>Detroit Lions</td>\n",
       "      <td>Sheila Ford Hamp†‡[13]</td>\n",
       "      <td>$4,500,000</td>\n",
       "      <td>1963[14][15]</td>\n",
       "    </tr>\n",
       "    <tr>\n",
       "      <th>11</th>\n",
       "      <td>Green Bay Packers</td>\n",
       "      <td>Green Bay Packers, Inc.4</td>\n",
       "      <td>-</td>\n",
       "      <td>1923</td>\n",
       "    </tr>\n",
       "  </tbody>\n",
       "</table>\n",
       "</div>"
      ],
      "text/plain": [
       "             Franchise          Principal Owner(s)     Purchase Price  \\\n",
       "4    Carolina Panthers                David Tepper     $2,275,000,000   \n",
       "5        Chicago Bears  Virginia Halas McCaskey†‡2               $100   \n",
       "6   Cincinnati Bengals                Mike Brown‡2          >$200M[7]   \n",
       "7     Cleveland Browns        Jimmy and Dee Haslam  $1,050,000,000[9]   \n",
       "8       Dallas Cowboys                 Jerry Jones       $140,000,000   \n",
       "9       Denver Broncos         Joe Ellis, trustee6        $71,000,000   \n",
       "10       Detroit Lions      Sheila Ford Hamp†‡[13]         $4,500,000   \n",
       "11   Green Bay Packers    Green Bay Packers, Inc.4                  -   \n",
       "\n",
       "      Yearacquired  \n",
       "4          2018[5]  \n",
       "5          1920[6]  \n",
       "6   1968[8] & 2011  \n",
       "7         2012[10]  \n",
       "8         1989[11]  \n",
       "9         1984[12]  \n",
       "10    1963[14][15]  \n",
       "11            1923  "
      ]
     },
     "execution_count": 140,
     "metadata": {},
     "output_type": "execute_result"
    }
   ],
   "source": [
    "import mysql.connector\n",
    "from bs4 import BeautifulSoup\n",
    "import requests\n",
    "import pandas as pd\n",
    "\n",
    "# Make HTTP get request\n",
    "url = \"https://en.wikipedia.org/wiki/List_of_NFL_franchise_owners\"\n",
    "page = requests.get(url)\n",
    "page.status_code\n",
    "\n",
    "# Parse content\n",
    "content = BeautifulSoup(page.text, \"html.parser\")\n",
    "#content.text\n",
    "\n",
    "# Get data table\n",
    "table = content.find(\"table\", class_=\"wikitable sortable\")\n",
    "# Save in Pandas dataframe?\n",
    "df = pd.read_html(str(table))\n",
    "df = pd.DataFrame(df[0])\n",
    "df.iloc[4:12,0:5]"
   ]
  },
  {
   "cell_type": "code",
   "execution_count": null,
   "metadata": {},
   "outputs": [],
   "source": []
  },
  {
   "cell_type": "code",
   "execution_count": null,
   "metadata": {},
   "outputs": [],
   "source": []
  },
  {
   "cell_type": "code",
   "execution_count": null,
   "metadata": {},
   "outputs": [],
   "source": []
  },
  {
   "cell_type": "code",
   "execution_count": null,
   "metadata": {},
   "outputs": [],
   "source": []
  },
  {
   "cell_type": "code",
   "execution_count": null,
   "metadata": {},
   "outputs": [],
   "source": []
  },
  {
   "cell_type": "code",
   "execution_count": null,
   "metadata": {},
   "outputs": [],
   "source": []
  },
  {
   "cell_type": "code",
   "execution_count": null,
   "metadata": {},
   "outputs": [],
   "source": []
  },
  {
   "cell_type": "code",
   "execution_count": null,
   "metadata": {},
   "outputs": [],
   "source": []
  },
  {
   "cell_type": "code",
   "execution_count": null,
   "metadata": {},
   "outputs": [],
   "source": []
  },
  {
   "cell_type": "code",
   "execution_count": null,
   "metadata": {},
   "outputs": [],
   "source": []
  },
  {
   "cell_type": "code",
   "execution_count": null,
   "metadata": {},
   "outputs": [],
   "source": []
  }
 ],
 "metadata": {
  "kernelspec": {
   "display_name": "Python 3",
   "language": "python",
   "name": "python3"
  },
  "language_info": {
   "codemirror_mode": {
    "name": "ipython",
    "version": 3
   },
   "file_extension": ".py",
   "mimetype": "text/x-python",
   "name": "python",
   "nbconvert_exporter": "python",
   "pygments_lexer": "ipython3",
   "version": "3.8.5"
  }
 },
 "nbformat": 4,
 "nbformat_minor": 4
}

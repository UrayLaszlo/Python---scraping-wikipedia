{
 "cells": [
  {
   "cell_type": "code",
   "execution_count": 26,
   "metadata": {},
   "outputs": [
    {
     "data": {
      "text/plain": [
       "[<td><a href=\"/wiki/Washington_Football_Team\" title=\"Washington Football Team\">Washington Football Team</a></td>,\n",
       " <td><span class=\"flagicon\"><a href=\"/wiki/United_States\" title=\"United States\"><img alt=\"United States\" class=\"thumbborder\" data-file-height=\"650\" data-file-width=\"1235\" decoding=\"async\" height=\"12\" src=\"//upload.wikimedia.org/wikipedia/en/thumb/a/a4/Flag_of_the_United_States.svg/23px-Flag_of_the_United_States.svg.png\" srcset=\"//upload.wikimedia.org/wikipedia/en/thumb/a/a4/Flag_of_the_United_States.svg/35px-Flag_of_the_United_States.svg.png 1.5x, //upload.wikimedia.org/wikipedia/en/thumb/a/a4/Flag_of_the_United_States.svg/46px-Flag_of_the_United_States.svg.png 2x\" width=\"23\"/></a></span> <a href=\"/wiki/Daniel_Snyder\" title=\"Daniel Snyder\">Dan Snyder</a>†</td>,\n",
       " <td>$800,000,000</td>,\n",
       " <td><a href=\"/wiki/List_of_Washington_Football_Team_seasons\" title=\"List of Washington Football Team seasons\">1999</a><sup class=\"reference\" id=\"cite_ref-37\"><a href=\"#cite_note-37\">[37]</a></sup>\n",
       " </td>]"
      ]
     },
     "execution_count": 26,
     "metadata": {},
     "output_type": "execute_result"
    }
   ],
   "source": [
    "import mysql.connector\n",
    "from bs4 import BeautifulSoup\n",
    "import requests\n",
    "import pandas as pd\n",
    "\n",
    "# Make HTTP get request\n",
    "url = \"https://en.wikipedia.org/wiki/List_of_NFL_franchise_owners\"\n",
    "page = requests.get(url)\n",
    "page.status_code\n",
    "\n",
    "# Parse content\n",
    "content = BeautifulSoup(page.text, \"html.parser\")\n",
    "#content.text\n",
    "\n",
    "# Get data table\n",
    "table = content.find(\"table\", class_ =\"wikitable sortable\")\n",
    "for x in table.find_all('tbody'):\n",
    "    rows = x.find_all('tr')[0:]\n",
    "    for row in rows:\n",
    "        team = row.find_all('td')[0:]\n",
    "team"
   ]
  },
  {
   "cell_type": "code",
   "execution_count": null,
   "metadata": {},
   "outputs": [],
   "source": []
  }
 ],
 "metadata": {
  "kernelspec": {
   "display_name": "Python 3",
   "language": "python",
   "name": "python3"
  },
  "language_info": {
   "codemirror_mode": {
    "name": "ipython",
    "version": 3
   },
   "file_extension": ".py",
   "mimetype": "text/x-python",
   "name": "python",
   "nbconvert_exporter": "python",
   "pygments_lexer": "ipython3",
   "version": "3.8.5"
  }
 },
 "nbformat": 4,
 "nbformat_minor": 4
}

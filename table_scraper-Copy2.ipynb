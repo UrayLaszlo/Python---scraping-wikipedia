{
 "cells": [
  {
   "cell_type": "code",
   "execution_count": 140,
   "metadata": {},
   "outputs": [
    {
     "data": {
      "text/plain": [
       "[<h2 class=\"subhead-embed color-accent bg-base font-accent font-size\">Values are up 7% for football franchises despite the pandemic. Four teams are now worth at least $4 billion each, up from two last year, as the Giants and the Rams join an exclusive club. </h2>,\n",
       " <h2 class=\"subhead-embed color-accent bg-base font-accent font-size\"><strong>1. Dallas Cowboys</strong></h2>,\n",
       " <h2 class=\"subhead-embed color-accent bg-base font-accent font-size\"><strong>2. New England Patriots</strong></h2>,\n",
       " <h2 class=\"subhead-embed color-accent bg-base font-accent font-size\"><strong>3. New York Giants</strong></h2>,\n",
       " <h2 class=\"subhead-embed color-accent bg-base font-accent font-size\"><strong>4.</strong> <strong>Los Angeles Rams</strong></h2>,\n",
       " <h2 class=\"subhead-embed color-accent bg-base font-accent font-size\">5. <strong>San Francisco 49ers</strong></h2>,\n",
       " <h2 class=\"subhead-embed color-accent bg-base font-accent font-size\">6. <strong>New York Jets</strong></h2>,\n",
       " <h2 class=\"subhead-embed color-accent bg-base font-accent font-size\"><br/></h2>,\n",
       " <h2 class=\"subhead-embed color-accent bg-base font-accent font-size\"><strong>7.</strong> <strong>Chicago Bears</strong></h2>,\n",
       " <h2 class=\"subhead-embed color-accent bg-base font-accent font-size\"><strong>8.</strong> <strong>Washington Football Team</strong></h2>,\n",
       " <h2 class=\"subhead-embed color-accent bg-base font-accent font-size\"><strong>9.</strong> <strong>Philadelphia Eagles</strong></h2>,\n",
       " <h2 class=\"subhead-embed color-accent bg-base font-accent font-size\"><strong>10.</strong> <strong>Houston Texans</strong></h2>,\n",
       " <h2 class=\"subhead-embed color-accent bg-base font-accent font-size\"><strong>11.</strong> <strong>Denver Broncos</strong></h2>,\n",
       " <h2 class=\"subhead-embed color-accent bg-base font-accent font-size\"><strong>12.</strong> <strong>Las Vegas Raiders</strong></h2>,\n",
       " <h2 class=\"subhead-embed color-accent bg-base font-accent font-size\"><strong>13.</strong> <strong>Seattle Seahawks</strong></h2>,\n",
       " <h2 class=\"subhead-embed color-accent bg-base font-accent font-size\">14. <strong>Green Bay Packers</strong></h2>,\n",
       " <h2 class=\"subhead-embed color-accent bg-base font-accent font-size\"><strong>15.</strong> <strong>Pittsburgh Steelers</strong></h2>,\n",
       " <h2 class=\"subhead-embed color-accent bg-base font-accent font-size\"><strong>16.</strong> <strong>Baltimore Ravens</strong></h2>,\n",
       " <h2 class=\"subhead-embed color-accent bg-base font-accent font-size\"><strong>17.</strong> <strong>Minnesota Vikings</strong></h2>,\n",
       " <h2 class=\"subhead-embed color-accent bg-base font-accent font-size\"><strong>18.</strong> <strong>Miami Dolphins</strong></h2>,\n",
       " <h2 class=\"subhead-embed color-accent bg-base font-accent font-size\"><strong>19.</strong> <strong>Atlanta Falcons</strong></h2>,\n",
       " <h2 class=\"subhead-embed color-accent bg-base font-accent font-size\"><strong>20.</strong> <strong>Indianapolis Colts</strong></h2>,\n",
       " <h2 class=\"subhead-embed color-accent bg-base font-accent font-size\"><strong>21.</strong> <strong>Los Angeles Chargers</strong></h2>,\n",
       " <h2 class=\"subhead-embed color-accent bg-base font-accent font-size\"><strong>22.</strong> <strong>Carolina Panthers</strong></h2>,\n",
       " <h2 class=\"subhead-embed color-accent bg-base font-accent font-size\"><strong>23.</strong> <strong>Kansas City Chiefs</strong></h2>,\n",
       " <h2 class=\"subhead-embed color-accent bg-base font-accent font-size\"><strong>24.</strong> <strong>New Orleans Saints</strong></h2>,\n",
       " <h2 class=\"subhead-embed color-accent bg-base font-accent font-size\"><strong>25.</strong> <strong>Jacksonville Jaguars</strong></h2>,\n",
       " <h2 class=\"subhead-embed color-accent bg-base font-accent font-size\"><strong>26.</strong> <strong>Cleveland Browns</strong></h2>,\n",
       " <h2 class=\"subhead-embed color-accent bg-base font-accent font-size\"><strong>27.</strong> <strong>Arizona Cardinals</strong></h2>,\n",
       " <h2 class=\"subhead-embed color-accent bg-base font-accent font-size\"><strong>28.</strong> <strong>Tennessee Titans</strong></h2>,\n",
       " <h2 class=\"subhead-embed color-accent bg-base font-accent font-size\"><strong>29.</strong> <strong>Tampa Bay Buccaneers</strong></h2>,\n",
       " <h2 class=\"subhead-embed color-accent bg-base font-accent font-size\"><strong>30.</strong> <strong>Detroit Lions</strong></h2>,\n",
       " <h2 class=\"subhead-embed color-accent bg-base font-accent font-size\"><strong>31.</strong> <strong>Buffalo Bills</strong></h2>,\n",
       " <h2 class=\"subhead-embed color-accent bg-base font-accent font-size\"><strong>32.</strong> <strong>Cincinnati Bengals</strong></h2>]"
      ]
     },
     "execution_count": 140,
     "metadata": {},
     "output_type": "execute_result"
    }
   ],
   "source": [
    "team"
   ]
  },
  {
   "cell_type": "code",
   "execution_count": null,
   "metadata": {},
   "outputs": [],
   "source": []
  },
  {
   "cell_type": "code",
   "execution_count": 148,
   "metadata": {},
   "outputs": [],
   "source": [
    "import mysql.connector\n",
    "from bs4 import BeautifulSoup\n",
    "import requests\n",
    "import pandas as pd\n",
    "\n",
    "# Make HTTP get request\n",
    "url = \"https://www.forbes.com/sites/mikeozanian/2020/09/10/the-nfls-most-valuable-teams-2020-how-much-is-your-favorite-team-worth/?sh=71fefb72ba49\"\n",
    "page = requests.get(url)\n",
    "page.status_code\n",
    "\n",
    "# Parse content\n",
    "content = BeautifulSoup(page.text, \"html.parser\")\n",
    "content.text\n",
    "\n",
    "# Get data \n",
    "#for x in content:\n",
    "article = content.find_all(\"div\", class_ =\"article-body fs-article fs-premium fs-responsive-text current-article font-body color-body bg-base font-accent\")\n",
    "for y in article:\n",
    "    team = y.find_all(\"h2\", 'subhead-embed color-accent bg-base font-accent font-size')[2:]\n",
    "    for y in team:\n",
    "        hee = y.find(\"h2\", 'subhead-embed color-accent bg-base font-accent font-size')\n",
    "hee\n",
    "\n",
    "#for x in article:\n",
    "#    team = x.find(\"h1\", class_ =\"fs-headline speakable-headline font-base font-size color-base\")\n"
   ]
  }
 ],
 "metadata": {
  "kernelspec": {
   "display_name": "Python 3",
   "language": "python",
   "name": "python3"
  },
  "language_info": {
   "codemirror_mode": {
    "name": "ipython",
    "version": 3
   },
   "file_extension": ".py",
   "mimetype": "text/x-python",
   "name": "python",
   "nbconvert_exporter": "python",
   "pygments_lexer": "ipython3",
   "version": "3.8.5"
  }
 },
 "nbformat": 4,
 "nbformat_minor": 4
}
